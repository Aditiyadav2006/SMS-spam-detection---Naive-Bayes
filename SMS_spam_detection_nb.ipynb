{
 "cells": [
  {
   "cell_type": "markdown",
   "id": "b236a0f3",
   "metadata": {},
   "source": [
    "### SMS spam detection\n",
    "### naive bayes "
   ]
  },
  {
   "cell_type": "code",
   "execution_count": 2,
   "id": "74cbc8df",
   "metadata": {},
   "outputs": [],
   "source": [
    "import pandas as pd \n",
    "from sklearn.model_selection import train_test_split\n",
    "from sklearn.feature_extraction.text import CountVectorizer\n",
    "from sklearn.naive_bayes import MultinomialNB\n",
    "from sklearn.metrics import accuracy_score, precision_score, recall_score, classification_report\n",
    " "
   ]
  },
  {
   "cell_type": "code",
   "execution_count": 3,
   "id": "34814652",
   "metadata": {},
   "outputs": [],
   "source": [
    "df=pd.read_csv(\"spam.csv\", encoding=\"ISO-8859-1\")#[['v1','v2']]\n"
   ]
  },
  {
   "cell_type": "code",
   "execution_count": 4,
   "id": "252102f7",
   "metadata": {},
   "outputs": [
    {
     "data": {
      "text/plain": [
       "Index(['v1', 'v2', 'Unnamed: 2', 'Unnamed: 3', 'Unnamed: 4'], dtype='object')"
      ]
     },
     "execution_count": 4,
     "metadata": {},
     "output_type": "execute_result"
    }
   ],
   "source": [
    "df.columns"
   ]
  },
  {
   "cell_type": "code",
   "execution_count": 5,
   "id": "4405204b",
   "metadata": {},
   "outputs": [],
   "source": [
    "df=pd.read_csv(\"spam.csv\", encoding=\"ISO-8859-1\")[['v1','v2']]"
   ]
  },
  {
   "cell_type": "code",
   "execution_count": 6,
   "id": "649e7681",
   "metadata": {},
   "outputs": [
    {
     "data": {
      "text/plain": [
       "Index(['v1', 'v2'], dtype='object')"
      ]
     },
     "execution_count": 6,
     "metadata": {},
     "output_type": "execute_result"
    }
   ],
   "source": [
    "df.columns"
   ]
  },
  {
   "cell_type": "code",
   "execution_count": 7,
   "id": "7d141fa0",
   "metadata": {},
   "outputs": [],
   "source": [
    "df.columns = ['label','text']\n"
   ]
  },
  {
   "cell_type": "code",
   "execution_count": 8,
   "id": "ae5a25b5",
   "metadata": {},
   "outputs": [
    {
     "data": {
      "text/plain": [
       "0        ham\n",
       "1        ham\n",
       "2       spam\n",
       "3        ham\n",
       "4        ham\n",
       "        ... \n",
       "5567    spam\n",
       "5568     ham\n",
       "5569     ham\n",
       "5570     ham\n",
       "5571     ham\n",
       "Name: label, Length: 5572, dtype: object"
      ]
     },
     "execution_count": 8,
     "metadata": {},
     "output_type": "execute_result"
    }
   ],
   "source": [
    "df.label"
   ]
  },
  {
   "cell_type": "code",
   "execution_count": 9,
   "id": "cb585762",
   "metadata": {},
   "outputs": [
    {
     "data": {
      "text/plain": [
       "label\n",
       "ham     4825\n",
       "spam     747\n",
       "Name: count, dtype: int64"
      ]
     },
     "execution_count": 9,
     "metadata": {},
     "output_type": "execute_result"
    }
   ],
   "source": [
    "df.label.value_counts()"
   ]
  },
  {
   "cell_type": "code",
   "execution_count": 10,
   "id": "390a1db9",
   "metadata": {},
   "outputs": [],
   "source": [
    "df['label']=df['label'].map({'ham':0,'spam':1})"
   ]
  },
  {
   "cell_type": "code",
   "execution_count": 11,
   "id": "22fd8a4e",
   "metadata": {},
   "outputs": [],
   "source": [
    "X_train,X_test,y_train,y_test = train_test_split(df['text'],df['label'],test_size=0.2,random_state=42) \n",
    "vectorizer=CountVectorizer()\n",
    "X_train_vec = vectorizer.fit_transform(X_train)\n",
    "X_test_vec = vectorizer.transform(X_test)\n",
    "\n",
    "\n"
   ]
  },
  {
   "cell_type": "code",
   "execution_count": 12,
   "id": "8a60ae6e",
   "metadata": {},
   "outputs": [
    {
     "name": "stdout",
     "output_type": "stream",
     "text": [
      "<Compressed Sparse Row sparse matrix of dtype 'int64'\n",
      "\twith 13941 stored elements and shape (1115, 7735)>\n",
      "  Coords\tValues\n",
      "  (0, 1808)\t1\n",
      "  (0, 2759)\t1\n",
      "  (0, 3067)\t1\n",
      "  (0, 3337)\t1\n",
      "  (0, 3567)\t1\n",
      "  (0, 3873)\t1\n",
      "  (0, 4685)\t1\n",
      "  (0, 4773)\t1\n",
      "  (0, 4776)\t1\n",
      "  (0, 7040)\t1\n",
      "  (0, 7482)\t1\n",
      "  (1, 923)\t1\n",
      "  (1, 955)\t1\n",
      "  (1, 1036)\t1\n",
      "  (1, 1987)\t1\n",
      "  (1, 2023)\t1\n",
      "  (1, 2375)\t2\n",
      "  (1, 2731)\t1\n",
      "  (1, 2836)\t1\n",
      "  (1, 2954)\t1\n",
      "  (1, 3298)\t1\n",
      "  (1, 3415)\t1\n",
      "  (1, 3600)\t1\n",
      "  (1, 3739)\t1\n",
      "  (1, 3837)\t1\n",
      "  :\t:\n",
      "  (1111, 7152)\t1\n",
      "  (1111, 7386)\t1\n",
      "  (1111, 7425)\t1\n",
      "  (1112, 3361)\t1\n",
      "  (1112, 4495)\t1\n",
      "  (1112, 4614)\t1\n",
      "  (1112, 6251)\t2\n",
      "  (1112, 6763)\t1\n",
      "  (1112, 6781)\t1\n",
      "  (1112, 7475)\t1\n",
      "  (1112, 7662)\t1\n",
      "  (1112, 7679)\t1\n",
      "  (1113, 2422)\t1\n",
      "  (1113, 3129)\t1\n",
      "  (1113, 3416)\t1\n",
      "  (1113, 6786)\t1\n",
      "  (1114, 305)\t1\n",
      "  (1114, 1292)\t1\n",
      "  (1114, 1353)\t1\n",
      "  (1114, 1454)\t1\n",
      "  (1114, 3361)\t1\n",
      "  (1114, 4235)\t1\n",
      "  (1114, 4723)\t1\n",
      "  (1114, 5247)\t1\n",
      "  (1114, 7679)\t1\n"
     ]
    }
   ],
   "source": [
    "print(X_test_vec)"
   ]
  },
  {
   "cell_type": "code",
   "execution_count": 13,
   "id": "4855949b",
   "metadata": {},
   "outputs": [
    {
     "name": "stdout",
     "output_type": "stream",
     "text": [
      "Accuracy: 0.9838565022421525\n",
      "Precision 0.9852941176470589\n",
      "Recall: 0.8933333333333333\n",
      "              precision    recall  f1-score   support\n",
      "\n",
      "           0       0.98      1.00      0.99       965\n",
      "           1       0.99      0.89      0.94       150\n",
      "\n",
      "    accuracy                           0.98      1115\n",
      "   macro avg       0.98      0.95      0.96      1115\n",
      "weighted avg       0.98      0.98      0.98      1115\n",
      "\n"
     ]
    }
   ],
   "source": [
    "\n",
    "\n",
    "clf = MultinomialNB()\n",
    "clf.fit(X_train_vec,y_train)\n",
    "y_pred = clf.predict(X_test_vec)\n",
    "print(\"Accuracy:\", accuracy_score(y_test,y_pred))\n",
    "print(\"Precision\",precision_score(y_test,y_pred))\n",
    "print(\"Recall:\",recall_score(y_test,y_pred))\n",
    "print(classification_report(y_test,y_pred))\n"
   ]
  },
  {
   "cell_type": "code",
   "execution_count": 14,
   "id": "597f05ab",
   "metadata": {},
   "outputs": [
    {
     "data": {
      "text/plain": [
       "Text(50.722222222222214, 0.5, 'Actual')"
      ]
     },
     "execution_count": 14,
     "metadata": {},
     "output_type": "execute_result"
    },
    {
     "data": {
      "image/png": "[encoded data removed]",
      "text/plain": [
       "<Figure size 640x480 with 2 Axes>"
      ]
     },
     "metadata": {},
     "output_type": "display_data"
    }
   ],
   "source": [
    "import seaborn as sns \n",
    "import matplotlib.pyplot as plt\n",
    "corr=sns.heatmap(pd.crosstab(y_test,y_pred),annot=True,fmt='d',cmap='Blues')\n",
    "plt.title('Confusion Martix')\n",
    "plt.xlabel('Predicted')\n",
    "plt.ylabel(\"Actual\")"
   ]
  },
  {
   "cell_type": "code",
   "execution_count": 15,
   "id": "8d110eb2",
   "metadata": {},
   "outputs": [
    {
     "name": "stdout",
     "output_type": "stream",
     "text": [
      "Accuracy_score 98.38565022421525\n"
     ]
    }
   ],
   "source": [
    "print(\"Accuracy_score\", accuracy_score(y_test,y_pred)*100)"
   ]
  }
 ],
 "metadata": {
  "kernelspec": {
   "display_name": "Python 3",
   "language": "python",
   "name": "python3"
  },
  "language_info": {
   "codemirror_mode": {
    "name": "ipython",
    "version": 3
   },
   "file_extension": ".py",
   "mimetype": "text/x-python",
   "name": "python",
   "nbconvert_exporter": "python",
   "pygments_lexer": "ipython3",
   "version": "3.13.0"
  }
 },
 "nbformat": 4,
 "nbformat_minor": 5
}
